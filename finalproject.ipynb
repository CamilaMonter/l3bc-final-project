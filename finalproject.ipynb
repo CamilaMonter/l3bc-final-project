{
 "cells": [
  {
   "cell_type": "markdown",
   "metadata": {},
   "source": [
    "# BEE 4750 Final Project\n",
    "\n",
    "Team Members: Bailey Belinger (bcb87), Camila Monter (cm755), Priya Shah (ps742)"
   ]
  },
  {
   "cell_type": "code",
   "execution_count": 2,
   "metadata": {},
   "outputs": [
    {
     "name": "stderr",
     "output_type": "stream",
     "text": [
      "\u001b[32m\u001b[1m  Activating\u001b[22m\u001b[39m project at `~/bee4750/l3bc-final-project`\n",
      "\u001b[32m\u001b[1m    Updating\u001b[22m\u001b[39m registry at `~/.julia/registries/General.toml`\n",
      "\u001b[32m\u001b[1m   Resolving\u001b[22m\u001b[39m package versions...\n",
      "\u001b[32m\u001b[1m  No Changes\u001b[22m\u001b[39m to `~/bee4750/l3bc-final-project/Project.toml`\n",
      "\u001b[32m\u001b[1m  No Changes\u001b[22m\u001b[39m to `~/bee4750/l3bc-final-project/Manifest.toml`\n",
      "\u001b[32m\u001b[1m   Resolving\u001b[22m\u001b[39m package versions...\n",
      "\u001b[32m\u001b[1m  No Changes\u001b[22m\u001b[39m to `~/bee4750/l3bc-final-project/Project.toml`\n",
      "\u001b[32m\u001b[1m  No Changes\u001b[22m\u001b[39m to `~/bee4750/l3bc-final-project/Manifest.toml`\n",
      "\u001b[32m\u001b[1m   Resolving\u001b[22m\u001b[39m package versions...\n",
      "\u001b[32m\u001b[1m  No Changes\u001b[22m\u001b[39m to `~/bee4750/l3bc-final-project/Project.toml`\n",
      "\u001b[32m\u001b[1m  No Changes\u001b[22m\u001b[39m to `~/bee4750/l3bc-final-project/Manifest.toml`\n",
      "\u001b[32m\u001b[1m   Resolving\u001b[22m\u001b[39m package versions...\n",
      "\u001b[32m\u001b[1m  No Changes\u001b[22m\u001b[39m to `~/bee4750/l3bc-final-project/Project.toml`\n",
      "\u001b[32m\u001b[1m  No Changes\u001b[22m\u001b[39m to `~/bee4750/l3bc-final-project/Manifest.toml`\n",
      "\u001b[32m\u001b[1m   Resolving\u001b[22m\u001b[39m package versions...\n",
      "\u001b[32m\u001b[1m  No Changes\u001b[22m\u001b[39m to `~/bee4750/l3bc-final-project/Project.toml`\n",
      "\u001b[32m\u001b[1m  No Changes\u001b[22m\u001b[39m to `~/bee4750/l3bc-final-project/Manifest.toml`\n",
      "\u001b[32m\u001b[1m   Resolving\u001b[22m\u001b[39m package versions...\n",
      "\u001b[32m\u001b[1m  No Changes\u001b[22m\u001b[39m to `~/bee4750/l3bc-final-project/Project.toml`\n",
      "\u001b[32m\u001b[1m  No Changes\u001b[22m\u001b[39m to `~/bee4750/l3bc-final-project/Manifest.toml`\n",
      "\u001b[32m\u001b[1m   Resolving\u001b[22m\u001b[39m package versions...\n",
      "\u001b[32m\u001b[1m  No Changes\u001b[22m\u001b[39m to `~/bee4750/l3bc-final-project/Project.toml`\n",
      "\u001b[32m\u001b[1m  No Changes\u001b[22m\u001b[39m to `~/bee4750/l3bc-final-project/Manifest.toml`\n"
     ]
    }
   ],
   "source": [
    "# Importing packages\n",
    "import Pkg\n",
    "Pkg.activate(@__DIR__)\n",
    "Pkg.instantiate()\n",
    "Pkg.add(\"JuMP\")\n",
    "Pkg.add(\"HiGHS\")\n",
    "Pkg.add(\"DataFrames\")\n",
    "Pkg.add(\"Plots\")\n",
    "Pkg.add(\"Measures\")\n",
    "Pkg.add(\"CSV\")\n",
    "Pkg.add(\"MarkdownTables\")\n",
    "\n",
    "using JuMP\n",
    "using HiGHS\n",
    "using DataFrames\n",
    "using Plots\n",
    "using Measures\n",
    "using CSV\n",
    "using MarkdownTables\n",
    "using LinearAlgebra"
   ]
  },
  {
   "cell_type": "code",
   "execution_count": 3,
   "metadata": {},
   "outputs": [
    {
     "data": {
      "text/plain": [
       "30"
      ]
     },
     "execution_count": 3,
     "metadata": {},
     "output_type": "execute_result"
    }
   ],
   "source": [
    "##Carbon Sequestration Rates\n",
    "\n",
    "m2 = 0.092903 #conversion to m^2\n",
    "#Trees\n",
    "oak_tree_cs = 0.593 #kg C/m2/year\n",
    "ash_tree_cs = 5.903 #kgC/m2/year\n",
    "maple_tree_cs = 0.202 #kg C/m2/year\n",
    "\n",
    "#Green Roof Systems\n",
    "grass_cs = 0.2 #kg C/m2\n",
    "prairie_mix_cs = 4.63 #kg C/m2\n",
    "herb_garden_cs = 11.03 #kg C/m2\n",
    "\n",
    "##Costs\n",
    "#Trees\n",
    "oak_tree_cost = 42.51 #per tree WHEN YOU BUY 10\n",
    "ash_tree_cost = 109.75 #per tree\n",
    "maple_tree_cost = 19.99 #per tree\n",
    "\n",
    "#Green Roof Systems\n",
    "installation_cost = 30*m2 #$/sqm\n",
    "maintenance_cost = 1.50*m2 #$/sqm/year\n",
    "grass_cost = 0.86*m2 #$/sqm\n",
    "prairie_mix_cost = 0.03*m2 #$/sqm\n",
    "herb_garden_cost = 9.50*m2 #$/sqm\n",
    "\n",
    "#Available areas\n",
    "city_area = 2526871.39 #m^2\n",
    "total_area = 4761611.96 #m^2\n",
    "park_area = 1563736.94 #m^2\n",
    "usable_roof_area = 0.4 #percent of city that is usable rooftop area\n",
    "\n",
    "#Emission rates in Chicago\n",
    "current_emission_level = 0.0517 * total_area #kg CO2 / year\n",
    "percent_reduction_goal = 30"
   ]
  },
  {
   "cell_type": "code",
   "execution_count": 5,
   "metadata": {},
   "outputs": [
    {
     "name": "stdout",
     "output_type": "stream",
     "text": [
      "Running HiGHS 1.8.0 (git hash: fcfb53414): Copyright (c) 2024 HiGHS under MIT licence terms\n",
      "Coefficient ranges:\n",
      "  Matrix [3e-04, 1e+00]\n",
      "  Cost   [3e+00, 1e+02]\n",
      "  Bound  [0e+00, 0e+00]\n",
      "  RHS    [3e+01, 2e+06]\n",
      "Presolving model\n",
      "3 rows, 6 cols, 12 nonzeros  0s\n",
      "3 rows, 6 cols, 12 nonzeros  0s\n",
      "Presolve : Reductions: rows 3(-0); columns 6(-0); elements 12(-0) - Not reduced\n",
      "Problem not reduced by presolve: solving the LP\n",
      "Using EKK dual simplex solver - serial\n",
      "  Iteration        Objective     Infeasibilities num(sum)\n",
      "          0     0.0000000000e+00 Pr: 1(480) 0s\n",
      "          1     6.9555655911e+03 Pr: 0(0) 0s\n",
      "Model   status      : Optimal\n",
      "Simplex   iterations: 1\n",
      "Objective value     :  6.9555655911e+03\n",
      "HiGHS run time      :          0.00\n",
      "Optimal oak trees 0.0\n",
      "Optimal ash trees 0.0\n",
      "Optimal maple trees 0.0\n",
      "Optimal grass area 0.0\n",
      "Optimal prarie mix area 0.0\n",
      "Optimal herb garden area 1826.0760281776975\n"
     ]
    }
   ],
   "source": [
    "air_quality_model = Model(HiGHS.Optimizer)\n",
    "@variable(air_quality_model, G[1:6]>=0) #area in meters squared\n",
    "\n",
    "fixed_cost = installation_cost*G[4] +  installation_cost*G[5] +  installation_cost*G[6] + maintenance_cost*G[4] + maintenance_cost*G[5] + maintenance_cost*G[6]\n",
    "variable_cost = G[1]*oak_tree_cost + G[2]*ash_tree_cost + G[3]*maple_tree_cost + G[4]*grass_cost + G[5]*prairie_mix_cost + G[6]*herb_garden_cost\n",
    "cost = fixed_cost + variable_cost\n",
    "@objective(air_quality_model, Min, cost)\n",
    "\n",
    "#print(air_quality_model)\n",
    "\n",
    "emissions_reduction = (G[1]*oak_tree_cs + G[2]*ash_tree_cs + G[3]*maple_tree_cs + G[4]*grass_cs + G[5]*prairie_mix_cs + G[6]*herb_garden_cs)*(44/12) #kg CO2 / year\n",
    "new_total_emissions = current_emission_level - emissions_reduction\n",
    "percent_reduction = (current_emission_level - new_total_emissions)/current_emission_level * 100\n",
    "@constraint(air_quality_model, emisisons_constraint, percent_reduction >= percent_reduction_goal)\n",
    "@constraint(air_quality_model, area_constraint_park, G[1]+G[2]+G[3] <= park_area)\n",
    "@constraint(air_quality_model, area_constraint_rooftop, G[4]+G[5]+G[6] <= usable_roof_area*city_area)\n",
    "\n",
    "# Optimize the model\n",
    "optimize!(air_quality_model)\n",
    "\n",
    "# Display the optimized values\n",
    "println(\"Optimal oak trees \", value.(G[1])*15)\n",
    "println(\"Optimal ash trees \", value.(G[2])*15*m2)\n",
    "println(\"Optimal maple trees \", value.(G[3])*40*m2)\n",
    "println(\"Optimal grass area \", value.(G[4]))\n",
    "println(\"Optimal prarie mix area \", value.(G[5]))\n",
    "println(\"Optimal herb garden area \", value.(G[6]))"
   ]
  }
 ],
 "metadata": {
  "kernelspec": {
   "display_name": "Julia 1.10.5",
   "language": "julia",
   "name": "julia-1.10"
  },
  "language_info": {
   "file_extension": ".jl",
   "mimetype": "application/julia",
   "name": "julia",
   "version": "1.10.5"
  }
 },
 "nbformat": 4,
 "nbformat_minor": 2
}
